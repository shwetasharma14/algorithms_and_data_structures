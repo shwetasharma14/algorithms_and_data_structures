{
 "cells": [
  {
   "cell_type": "markdown",
   "metadata": {},
   "source": [
    "# Practice Interview\n",
    "\n",
    "## Objective\n",
    "\n",
    "_*The partner assignment aims to provide participants with the opportunity to practice coding in an interview context. You will analyze your partner's Assignment 1. Moreover, code reviews are common practice in a software development team. This assignment should give you a taste of the code review process.*_\n",
    "\n",
    "## Group Size\n",
    "\n",
    "Each group should have 2 people. You will be assigned a partner\n",
    "\n",
    "## Part 1:\n",
    "\n",
    "You and your partner must share each other's Assignment 1 submission."
   ]
  },
  {
   "cell_type": "markdown",
   "metadata": {},
   "source": [
    "\n",
    "## Part 2:\n",
    "\n",
    "Create a Jupyter Notebook, create 6 of the following headings, and complete the following for your partner's assignment 1:\n",
    "\n",
    "-   Paraphrase the problem in your own words.\n"
   ]
  },
  {
   "cell_type": "code",
   "execution_count": null,
   "metadata": {},
   "outputs": [],
   "source": [
    "# Your answer here\n",
    "# We should check if the tree contains duplicate elements. If yes then while travering from the root and from left to right, take the first duplicate element and return as output. \n",
    "# If no duplicate elements are found in the tree then return -1."
   ]
  },
  {
   "cell_type": "markdown",
   "metadata": {},
   "source": [
    "\n",
    "-   Create 1 new example that demonstrates you understand the problem. Trace/walkthrough 1 example that your partner made and explain it.\n"
   ]
  },
  {
   "cell_type": "code",
   "execution_count": null,
   "metadata": {},
   "outputs": [],
   "source": [
    "# Your answer here\n",
    "#Input: root =[2,6,6,7,8,8,9,10]\n",
    "#output : 5\n",
    "\n",
    "#Input : root =[1,2,4,7,9,10]\n",
    "#output : -1\n",
    "\n",
    "## My partner made this example: \n",
    "# Input: root =[1,5,5,7,8,9,9,10]\n",
    "# output : 5\n",
    "# In this example the first duplicate encountered is 5. The queue is read from left. If a value if not found in the set named seen, then that value is added to the set \"seen\". \n",
    "# When the second 5 is read in the loop, the first 5 is present in the set \"seen\", so at this point the second 5 is returned as output."
   ]
  },
  {
   "cell_type": "markdown",
   "metadata": {},
   "source": [
    "\n",
    "-   Copy the solution your partner wrote. \n"
   ]
  },
  {
   "cell_type": "code",
   "execution_count": null,
   "metadata": {},
   "outputs": [],
   "source": [
    "# Your answer here\n",
    "# My partner's code\n",
    "# Definition for a binary tree node.\n",
    "class TreeNode(object):\n",
    "    def __init__(self, val=0, left=None, right=None):\n",
    "        self.val = val\n",
    "        self.left = left\n",
    "        self.right = right\n",
    "\n",
    "from collections import deque\n",
    "\n",
    "def is_duplicate(root: TreeNode) -> int:\n",
    "    if not root:\n",
    "        return -1\n",
    "\n",
    "    # Using a set to keep track of seen values\n",
    "    seen = set()\n",
    "    queue = deque([root])\n",
    "\n",
    "    # Level-order traversal using BFS\n",
    "    while queue:\n",
    "        node = queue.popleft()\n",
    "        \n",
    "        # Check for duplicates\n",
    "        if node.val in seen:\n",
    "            return node.val\n",
    "        seen.add(node.val)\n",
    "\n",
    "        # Add left and right children to the queue\n",
    "        if node.left:\n",
    "            queue.append(node.left)\n",
    "        if node.right:\n",
    "            queue.append(node.right)\n",
    "\n",
    "    # No duplicates found\n",
    "    return -1"
   ]
  },
  {
   "cell_type": "markdown",
   "metadata": {},
   "source": [
    "\n",
    "-   Explain why their solution works in your own words.\n"
   ]
  },
  {
   "cell_type": "code",
   "execution_count": null,
   "metadata": {},
   "outputs": [],
   "source": [
    "# Your answer here\n",
    "# The solution works because if a duplicate value is present in the set, then this code will return the duplicate value as output.\n",
    "#        if node.val in seen:\n",
    "#            return node.val\n",
    "#        seen.add(node.val)"
   ]
  },
  {
   "cell_type": "markdown",
   "metadata": {},
   "source": [
    "\n",
    "-   Explain the problem’s time and space complexity in your own words.\n"
   ]
  },
  {
   "cell_type": "code",
   "execution_count": null,
   "metadata": {},
   "outputs": [],
   "source": [
    "# Your answer here"
   ]
  },
  {
   "cell_type": "markdown",
   "metadata": {},
   "source": [
    "## Time Complexity:\n",
    "The time complexity of the is_duplicate function can be analyzed by looking at the operations performed during the level-order traversal:\n",
    "1. Initialization: Adding the root node to the queue is a constant time operation, O(1)O(1).\n",
    "2. Level-Order Traversal: The function performs a level-order traversal using a queue, processing each node exactly once. This traversal involves:\n",
    "    - Dequeueing a node: O(1)O(1)\n",
    "    - Checking if the value is in the seen set: O(1)O(1) on average, assuming hash set operations.\n",
    "    - Adding the value to the seen set: O(1)O(1) on average.\n",
    "    - Enqueueing the left and right children: O(1)O(1) each.\n",
    "3. Since each node is processed once, and each operation (check, add, enqueue) is O(1)O(1), the overall time complexity is: O(n)O(n), where nn is the number of nodes in the binary tree.\n",
    "\n",
    "## Space Complexity:\n",
    "The space complexity of the is_duplicate function is determined by the additional data structures used:\n",
    "1. Queue: In the worst case, the queue can hold all the nodes at the deepest level of the tree. For a complete binary tree, this is O(n)O(n).\n",
    "2. Set: The seen set stores each unique value in the binary tree. In the worst case, if all node values are unique, the set will store nn values, giving it a space complexity of O(n)O(n).\n",
    "Combining these, the overall space complexity is: O(n)O(n), where nn is the number of nodes in the binary tree.\n",
    "\n",
    "## Summary:\n",
    "1. Time Complexity: O(n)O(n)\n",
    "2. Space Complexity: O(n)\n",
    "\n"
   ]
  },
  {
   "cell_type": "markdown",
   "metadata": {},
   "source": [
    "\n",
    "-   Critique your partner's solution, including explanation, and if there is anything that should be adjusted.\n"
   ]
  },
  {
   "cell_type": "code",
   "execution_count": null,
   "metadata": {},
   "outputs": [],
   "source": [
    "# Your answer here\n",
    "# There should be code to initialize the variable root with an input tree of numbers. With the current code, its difficult to run and test the code with any input list."
   ]
  },
  {
   "cell_type": "markdown",
   "metadata": {},
   "source": [
    "\n",
    "## Part 3:\n",
    "\n",
    "Please write a 200 word reflection documenting your process from assignment 1, and your presentation and review experience with your partner at the bottom of the Jupyter Notebook under a new heading \"Reflection.\" Again, export this Notebook as pdf.\n"
   ]
  },
  {
   "cell_type": "markdown",
   "metadata": {},
   "source": [
    "### Reflection"
   ]
  },
  {
   "cell_type": "code",
   "execution_count": null,
   "metadata": {},
   "outputs": [],
   "source": [
    "# Your answer here"
   ]
  },
  {
   "cell_type": "markdown",
   "metadata": {},
   "source": [
    "### Reflection on Implementing the `missing_num` Function\n",
    "\n",
    "Developing the `missing_num` function was an insightful exercise in applying set operations for efficient problem-solving. The primary objective was to identify missing numbers from a list of integers within a given range `[0, n]`, and the task required a methodical approach to ensure accuracy and efficiency.\n",
    "\n",
    "**Understanding the Problem**:\n",
    "The problem necessitated finding missing integers within a specified range, with the given list potentially containing duplicate values. The solution needed to account for this, ensuring that duplicates did not affect the identification of missing numbers.\n",
    "\n",
    "**Approach and Implementation**:\n",
    "I opted to use Python's set operations due to their efficiency in handling membership checks and differences:\n",
    "1. **Determine the Range**: The maximum value in the input list (`max(nums)`) defined the upper bound `n` of the range.\n",
    "2. **Generate the Full Set**: Using `set(range(n + 1))`, I created a set of all integers within the range `[0, n]`.\n",
    "3. **Identify Missing Numbers**: By subtracting the set of given numbers (`given_set`) from the full set, I efficiently identified the missing numbers.\n",
    "4. **Convert to Sorted List**: The resulting set of missing numbers was converted to a sorted list for better readability and usability.\n",
    "5. **Handle Edge Cases**: The function was designed to return `-1` if no numbers were missing, ensuring it handled all potential scenarios gracefully.\n",
    "\n",
    "**Testing and Validation**:\n",
    "I tested the function with various inputs to validate its correctness:\n",
    "- **Basic Case**: `missing_num([0, 2])` returned `[1]`, correctly identifying the missing number.\n",
    "- **Multiple Missing Numbers**: `missing_num([5, 0, 1])` returned `[2, 3, 4]`, demonstrating the function's ability to handle multiple missing values.\n",
    "- **Complex Case**: `missing_num([6, 8, 2, 3, 5, 7, 0, 1, 10])` returned `[4, 9]`, validating the function's robustness with larger ranges and more values.\n",
    "\n",
    "**Reflection**:\n",
    "This assignment underscored the effectiveness of set operations for such tasks. The choice of sets ensured the solution was both efficient and easy to implement. Additionally, the task highlighted the importance of thorough testing, as it ensured that the function could handle various edge cases and input scenarios reliably. Overall, this was a valuable exercise in leveraging data structures for practical problem-solving in Python."
   ]
  },
  {
   "cell_type": "markdown",
   "metadata": {},
   "source": [
    "\n",
    "## Evaluation Criteria\n",
    "\n",
    "We are looking for the similar points as Assignment 1\n",
    "\n",
    "-   Problem is accurately stated\n",
    "\n",
    "-   New example is correct and easily understandable\n",
    "\n",
    "-   Correctness, time, and space complexity of the coding solution\n",
    "\n",
    "-   Clarity in explaining why the solution works, its time and space complexity\n",
    "\n",
    "-   Quality of critique of your partner's assignment, if necessary\n"
   ]
  },
  {
   "cell_type": "markdown",
   "metadata": {},
   "source": [
    "## Submission Information\n",
    "\n",
    "🚨 **Please review our [Assignment Submission Guide](https://github.com/UofT-DSI/onboarding/blob/main/onboarding_documents/submissions.md)** 🚨 for detailed instructions on how to format, branch, and submit your work. Following these guidelines is crucial for your submissions to be evaluated correctly.\n",
    "\n",
    "### Submission Parameters:\n",
    "* Submission Due Date: `HH:MM AM/PM - DD/MM/YYYY`\n",
    "* The branch name for your repo should be: `assignment-2`\n",
    "* What to submit for this assignment:\n",
    "    * This Jupyter Notebook (assignment_2.ipynb) should be populated and should be the only change in your pull request.\n",
    "* What the pull request link should look like for this assignment: `https://github.com/<your_github_username>/algorithms_and_data_structures/pull/<pr_id>`\n",
    "    * Open a private window in your browser. Copy and paste the link to your pull request into the address bar. Make sure you can see your pull request properly. This helps the technical facilitator and learning support staff review your submission easily.\n",
    "\n",
    "Checklist:\n",
    "- [ ] Created a branch with the correct naming convention.\n",
    "- [ ] Ensured that the repository is public.\n",
    "- [ ] Reviewed the PR description guidelines and adhered to them.\n",
    "- [ ] Verify that the link is accessible in a private browser window.\n",
    "\n",
    "If you encounter any difficulties or have questions, please don't hesitate to reach out to our team via our Slack at `#cohort-3-help`. Our Technical Facilitators and Learning Support staff are here to help you navigate any challenges.\n"
   ]
  }
 ],
 "metadata": {
  "language_info": {
   "name": "python"
  }
 },
 "nbformat": 4,
 "nbformat_minor": 2
}
